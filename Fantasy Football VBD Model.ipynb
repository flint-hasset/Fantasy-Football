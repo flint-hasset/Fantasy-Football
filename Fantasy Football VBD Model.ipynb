{
 "cells": [
  {
   "cell_type": "markdown",
   "metadata": {},
   "source": [
    "# Fantasy Footbal VBD Auction Creator and Optimizer\n",
    "1. Creates Value-based drafting values from 'Points above replacement' concept\n",
    "2. Determines optimal split per cost on any position (eg. 80 to RB = 60 RB1; 20 RB2)\n",
    "3. Runs optimal team splits (% on each position)"
   ]
  },
  {
   "cell_type": "markdown",
   "metadata": {},
   "source": [
    "Remaining issues:\n",
    "- QB values are wonky\n",
    "    - Normalize for prior year values?\n",
    "    - Manually adjust upwards?\n",
    "- Optimizating of team splits has too many calculations\n",
    "    - Narrow search ranges\n",
    "    - Increase percentage increment?"
   ]
  },
  {
   "cell_type": "code",
   "execution_count": 95,
   "metadata": {},
   "outputs": [],
   "source": [
    "import pandas as pd\n",
    "import numpy as np\n",
    "import matplotlib.pyplot as plt\n"
   ]
  },
  {
   "cell_type": "code",
   "execution_count": 18,
   "metadata": {
    "collapsed": true
   },
   "outputs": [],
   "source": [
    "df_raw_stats = pd.read_csv(r'C:\\Users\\stefa\\OneDrive\\Documents\\Analysis Projects\\Fantasy Modeling\\Football\\2018 Data\\Combined_data.csv')"
   ]
  },
  {
   "cell_type": "code",
   "execution_count": 20,
   "metadata": {
    "collapsed": true
   },
   "outputs": [],
   "source": [
    "df_raw_stats = df_raw_stats.fillna(0)\n",
    "df_raw_stats['Position_Rank'] = df_raw_stats.groupby('Pos')['Exp_PTS'].rank(ascending=False)\n"
   ]
  },
  {
   "cell_type": "code",
   "execution_count": 55,
   "metadata": {},
   "outputs": [
    {
     "data": {
      "text/plain": [
       "(720, 19)"
      ]
     },
     "execution_count": 55,
     "metadata": {},
     "output_type": "execute_result"
    }
   ],
   "source": [
    "df_raw_stats.shape"
   ]
  },
  {
   "cell_type": "markdown",
   "metadata": {},
   "source": [
    "### Define league settings"
   ]
  },
  {
   "cell_type": "code",
   "execution_count": 218,
   "metadata": {
    "collapsed": true
   },
   "outputs": [],
   "source": [
    "teams = 12\n",
    "buyin = 200\n",
    "qb_start, qb_bench = 2,0.25\n",
    "rb_start, rb_bench = 2.5, .5\n",
    "wr_start, wr_bench = 2.5, 2\n",
    "te_start, te_bench = 1, .25\n",
    "bench_size = 5 ### actual 6, but calculated to optimize for 2 flex. \n",
    "d_start = 1\n",
    "k_start = 1\n",
    "rb_waiver = int(teams*(rb_start+rb_bench)+1)\n",
    "wr_waiver = int(teams*(wr_start+wr_bench)+1)\n",
    "qb_waiver = int(teams*(qb_start+qb_bench)+1)\n",
    "te_waiver = int(teams*(te_start+te_bench)+1)\n"
   ]
  },
  {
   "cell_type": "markdown",
   "metadata": {},
   "source": [
    "## Run assumptions"
   ]
  },
  {
   "cell_type": "code",
   "execution_count": 208,
   "metadata": {
    "collapsed": true
   },
   "outputs": [],
   "source": [
    "starters =.90\n",
    "### position multipliers based on prior years\n",
    "\n"
   ]
  },
  {
   "cell_type": "markdown",
   "metadata": {},
   "source": [
    "# Replacement values"
   ]
  },
  {
   "cell_type": "code",
   "execution_count": 209,
   "metadata": {
    "collapsed": true
   },
   "outputs": [],
   "source": [
    "# Find replacement-level RB.\n",
    "#### Replacement = (rb_start+rb_bench)*teams+1\n",
    "#### Look up points of replacement-level by pos. \n",
    "df_rb = df_raw_stats.where(df_raw_stats['Pos']=='RB')\n",
    "repl_rb=list(df_rb.where(df_rb['Position_Rank']==int(rb_waiver)).dropna().iloc[0])[15]\n",
    "\n",
    "df_qb = df_raw_stats.where(df_raw_stats['Pos']=='QB')\n",
    "repl_qb=list(df_qb.where(df_qb['Position_Rank']==int(qb_waiver)).dropna().iloc[0])[15]\n",
    "\n",
    "df_wr = df_raw_stats.where(df_raw_stats['Pos']=='WR')\n",
    "repl_wr=list(df_wr.where(df_wr['Position_Rank']==int(wr_waiver)).dropna().iloc[0])[15]\n",
    "\n",
    "df_te = df_raw_stats.where(df_raw_stats['Pos']=='TE')\n",
    "repl_te=list(df_te.where(df_te['Position_Rank']==int(te_waiver)).dropna().iloc[0])[15]"
   ]
  },
  {
   "cell_type": "code",
   "execution_count": 210,
   "metadata": {
    "scrolled": true
   },
   "outputs": [],
   "source": [
    "df_rb['PAR'] = np.max(df_rb['Exp_PTS']-0,0)\n",
    "df_rb['PAR'] =df_rb.apply(lambda row: df_rb['Exp_PTS'] -repl_rb,axis=0)\n",
    "df_rb.loc[df_rb['PAR']<0,'PAR'] = 0\n",
    "\n",
    "df_wr['PAR'] = np.max(df_wr['Exp_PTS']-0,0)\n",
    "df_wr['PAR'] =df_wr.apply(lambda row: df_wr['Exp_PTS'] -repl_wr,axis=0)\n",
    "df_wr.loc[df_wr['PAR']<0,'PAR'] = 0\n",
    "\n",
    "df_qb['PAR'] = np.max(df_qb['Exp_PTS']-0,0)\n",
    "df_qb['PAR'] =df_qb.apply(lambda row: df_qb['Exp_PTS'] -repl_qb,axis=0)\n",
    "df_qb.loc[df_qb['PAR']<0,'PAR'] = 0\n",
    "\n",
    "df_te['PAR'] = np.max(df_te['Exp_PTS']-0,0)\n",
    "df_te['PAR'] =df_te.apply(lambda row: df_te['Exp_PTS'] -repl_te,axis=0)\n",
    "df_te.loc[df_te['PAR']<0,'PAR'] = 0\n",
    "\n"
   ]
  },
  {
   "cell_type": "code",
   "execution_count": 453,
   "metadata": {},
   "outputs": [],
   "source": [
    "df_op = df_rb.append(df_qb, ignore_index=True)\n",
    "df_op = df_op.append(df_te, ignore_index=True)\n",
    "df_op = df_op.append(df_wr, ignore_index=True)\n",
    "df_op.dropna()\n",
    "total_par = np.sum(df_op['PAR'])\n",
    "value_per_pt = teams * (buyin*starters) / total_par"
   ]
  },
  {
   "cell_type": "code",
   "execution_count": 454,
   "metadata": {
    "scrolled": true
   },
   "outputs": [
    {
     "data": {
      "text/html": [
       "<div>\n",
       "<style>\n",
       "    .dataframe thead tr:only-child th {\n",
       "        text-align: right;\n",
       "    }\n",
       "\n",
       "    .dataframe thead th {\n",
       "        text-align: left;\n",
       "    }\n",
       "\n",
       "    .dataframe tbody tr th {\n",
       "        vertical-align: top;\n",
       "    }\n",
       "</style>\n",
       "<table border=\"1\" class=\"dataframe\">\n",
       "  <thead>\n",
       "    <tr style=\"text-align: right;\">\n",
       "      <th></th>\n",
       "      <th>Pos</th>\n",
       "      <th>Player</th>\n",
       "      <th>Team</th>\n",
       "      <th>Auction Value</th>\n",
       "      <th>Upside</th>\n",
       "      <th>Downside</th>\n",
       "      <th>Exp_PTS</th>\n",
       "      <th>Hi_PTS</th>\n",
       "      <th>Lo_PTS</th>\n",
       "    </tr>\n",
       "  </thead>\n",
       "  <tbody>\n",
       "    <tr>\n",
       "      <th>0</th>\n",
       "      <td>RB</td>\n",
       "      <td>Todd Gurley</td>\n",
       "      <td>LAR</td>\n",
       "      <td>64.173939</td>\n",
       "      <td>12.761863</td>\n",
       "      <td>-8.459292</td>\n",
       "      <td>276.2</td>\n",
       "      <td>311.2</td>\n",
       "      <td>253.0</td>\n",
       "    </tr>\n",
       "    <tr>\n",
       "      <th>1</th>\n",
       "      <td>RB</td>\n",
       "      <td>Le'Veon Bell</td>\n",
       "      <td>PIT</td>\n",
       "      <td>61.585104</td>\n",
       "      <td>5.214133</td>\n",
       "      <td>-6.198619</td>\n",
       "      <td>269.1</td>\n",
       "      <td>283.4</td>\n",
       "      <td>252.1</td>\n",
       "    </tr>\n",
       "    <tr>\n",
       "      <th>2</th>\n",
       "      <td>RB</td>\n",
       "      <td>Ezekiel Elliott</td>\n",
       "      <td>DAL</td>\n",
       "      <td>55.605260</td>\n",
       "      <td>9.042691</td>\n",
       "      <td>-7.183106</td>\n",
       "      <td>252.7</td>\n",
       "      <td>277.5</td>\n",
       "      <td>233.0</td>\n",
       "    </tr>\n",
       "    <tr>\n",
       "      <th>3</th>\n",
       "      <td>RB</td>\n",
       "      <td>David Johnson</td>\n",
       "      <td>ARI</td>\n",
       "      <td>53.016425</td>\n",
       "      <td>11.886764</td>\n",
       "      <td>-8.495754</td>\n",
       "      <td>245.6</td>\n",
       "      <td>278.2</td>\n",
       "      <td>222.3</td>\n",
       "    </tr>\n",
       "    <tr>\n",
       "      <th>4</th>\n",
       "      <td>RB</td>\n",
       "      <td>Alvin Kamara</td>\n",
       "      <td>NO</td>\n",
       "      <td>45.760394</td>\n",
       "      <td>9.042691</td>\n",
       "      <td>-2.698222</td>\n",
       "      <td>225.7</td>\n",
       "      <td>250.5</td>\n",
       "      <td>218.3</td>\n",
       "    </tr>\n",
       "  </tbody>\n",
       "</table>\n",
       "</div>"
      ],
      "text/plain": [
       "  Pos           Player Team  Auction Value     Upside  Downside  Exp_PTS  \\\n",
       "0  RB      Todd Gurley  LAR      64.173939  12.761863 -8.459292    276.2   \n",
       "1  RB     Le'Veon Bell  PIT      61.585104   5.214133 -6.198619    269.1   \n",
       "2  RB  Ezekiel Elliott  DAL      55.605260   9.042691 -7.183106    252.7   \n",
       "3  RB    David Johnson  ARI      53.016425  11.886764 -8.495754    245.6   \n",
       "4  RB     Alvin Kamara   NO      45.760394   9.042691 -2.698222    225.7   \n",
       "\n",
       "   Hi_PTS  Lo_PTS  \n",
       "0   311.2   253.0  \n",
       "1   283.4   252.1  \n",
       "2   277.5   233.0  \n",
       "3   278.2   222.3  \n",
       "4   250.5   218.3  "
      ]
     },
     "execution_count": 454,
     "metadata": {},
     "output_type": "execute_result"
    }
   ],
   "source": [
    "df_op['Auction Value'] = np.max(df_op['PAR'],0)\n",
    "df_op['Auction Value'] = df_op.apply(lambda row: df_op['PAR'] * value_per_pt,axis=0)\n",
    "df_op['Downside'] = (df_op['Lo_PTS']-df_op['Exp_PTS'])*value_per_pt\n",
    "df_op['Upside'] = (df_op['Hi_PTS']-df_op['Exp_PTS'])*value_per_pt\n",
    "df_op.dropna()\n",
    "df_op.sort_values(by=['Auction Value'], ascending=False)\n",
    "df_pres = df_op[['Pos','Player','Team','Auction Value','Upside','Downside','Exp_PTS','Hi_PTS','Lo_PTS']]\n",
    "df_pres.sort_values(by=['Auction Value'], ascending=False).head(5)\n",
    "\n"
   ]
  },
  {
   "cell_type": "code",
   "execution_count": 214,
   "metadata": {},
   "outputs": [],
   "source": [
    "df_pres.to_csv(r'C:\\Users\\stefa\\OneDrive\\Documents\\Analysis Projects\\Fantasy Modeling\\Football\\2018 Data\\Auction_values.csv')"
   ]
  },
  {
   "cell_type": "markdown",
   "metadata": {},
   "source": [
    "## Optimization function\n",
    "- Test splits of spending on each position (eg. RB1/RB2) for any given amount. \n",
    "- Given these values, then run tests for % contribution to positions\n"
   ]
  },
  {
   "cell_type": "markdown",
   "metadata": {},
   "source": [
    "### By position first..."
   ]
  },
  {
   "cell_type": "code",
   "execution_count": 499,
   "metadata": {
    "collapsed": true
   },
   "outputs": [],
   "source": [
    "def optimal_split(test_pos,budget):\n",
    "    if test_pos == \"Flex\":\n",
    "        df_temp = df_op.where(np.logical_and(df_op['Pos']!='QB', df_op['Auction Value']>0)).dropna()\n",
    "    else:\n",
    "        df_temp = df_op.where(np.logical_and(df_op['Pos']==test_pos, df_op['Auction Value']>0)).dropna()\n",
    "    points_list = []\n",
    "    cost_list = []\n",
    "    \n",
    "    for pl1 in range(df_temp.shape[0]):\n",
    "        pl1_name = df_temp.iloc[pl1,1]\n",
    "        pl1_cost = int(df_temp.iloc[pl1,20])\n",
    "        pl1_pts = int(df_temp.iloc[pl1,15])\n",
    "        for pl2 in range(pl1+1,df_temp.shape[0]):\n",
    "            pl2_name = df_temp.iloc[pl2,1]\n",
    "            pl2_cost = int(df_temp.iloc[pl2,20])\n",
    "            pl2_pts = int(df_temp.iloc[pl2,15])\n",
    "            total_cost = int(pl1_cost + pl2_cost)\n",
    "            total_pts = int(pl1_pts + pl2_pts)\n",
    "            cost_list.append(total_cost)\n",
    "            points_list.append(total_pts)\n",
    "\n",
    "\n",
    "    df_pairs = pd.DataFrame(np.column_stack([points_list, cost_list]), \n",
    "                           columns=['Total Pts', 'Total Cost'])\n",
    "    df_pairs['Total Pts'] = pd.to_numeric(df_pairs['Total Pts'])\n",
    "    df_pairs['Total Cost'] = pd.to_numeric(df_pairs['Total Cost'])\n",
    "\n",
    "    df_max = df_pairs.where(df_pairs['Total Cost']<budget).dropna().reset_index()\n",
    "    return df_max.iloc[df_max['Total Pts'].idxmax(),:]\n"
   ]
  },
  {
   "cell_type": "code",
   "execution_count": 575,
   "metadata": {},
   "outputs": [],
   "source": [
    "def optimal_split_viewer(test_pos,budget):\n",
    "    if test_pos == \"Flex\":\n",
    "        df_temp = df_op.where(np.logical_and(df_op['Pos']!='QB', df_op['Auction Value']>0)).dropna()\n",
    "    else:\n",
    "        df_temp = df_op.where(np.logical_and(df_op['Pos']==test_pos, df_op['Auction Value']>0)).dropna()\n",
    "    points_list = []\n",
    "    cost_list = []\n",
    "    pl1_list = []\n",
    "    pl2_list = []\n",
    "    pl1_clist = []\n",
    "    pl2_clist = []\n",
    "    pl1_plist = []\n",
    "    pl2_plist = []\n",
    "    lookup_list = []\n",
    "    \n",
    "    for pl1 in range(df_temp.shape[0]):\n",
    "        pl1_name = df_temp.iloc[pl1,1]\n",
    "        pl1_cost = int(df_temp.iloc[pl1,20])\n",
    "        pl1_pts = int(df_temp.iloc[pl1,15])\n",
    "        for pl2 in range(pl1+1,df_temp.shape[0]):\n",
    "            pl2_name = df_temp.iloc[pl2,1]\n",
    "            pl2_cost = int(df_temp.iloc[pl2,20])\n",
    "            pl2_pts = int(df_temp.iloc[pl2,15])\n",
    "            total_cost = int(pl1_cost + pl2_cost)\n",
    "            total_pts = int(pl1_pts + pl2_pts)\n",
    "            lookup = str(test_pos+str(int(budget)))\n",
    "            # Create Lists\n",
    "            cost_list.append(total_cost)\n",
    "            points_list.append(total_pts)\n",
    "            pl1_list.append(pl1_name)\n",
    "            pl2_list.append(pl2_name)\n",
    "            pl1_clist.append(pl1_cost)\n",
    "            pl2_clist.append(pl2_cost)\n",
    "            pl1_plist.append(pl1_pts)\n",
    "            pl2_plist.append(pl2_pts)\n",
    "            lookup_list.append(lookup)\n",
    "\n",
    "            \n",
    "    df_pairs = pd.DataFrame(np.column_stack([lookup_list,pl1_list, pl2_list, points_list, cost_list, pl1_clist, pl2_clist,pl1_plist,pl2_plist]), \n",
    "                           columns=['Lookup','Player1', 'Player2', 'Total Pts', 'Total Cost','P1 Cost','P2 Cost','P1 Pts','P2 Pts'])\n",
    "    df_pairs['Total Pts'] = pd.to_numeric(df_pairs['Total Pts'])\n",
    "    df_pairs['Total Cost'] = pd.to_numeric(df_pairs['Total Cost'])\n",
    "\n",
    "    df_max = df_pairs.where(df_pairs['Total Cost']<budget).dropna().reset_index()\n",
    "    return df_max.iloc[df_max['Total Pts'].idxmax(),:]\n"
   ]
  },
  {
   "cell_type": "markdown",
   "metadata": {},
   "source": [
    "### Now for whole team... "
   ]
  },
  {
   "cell_type": "code",
   "execution_count": 581,
   "metadata": {},
   "outputs": [
    {
     "name": "stdout",
     "output_type": "stream",
     "text": [
      "11 5 2 1 2\n",
      "93 127 79 34 127\n"
     ]
    }
   ],
   "source": [
    "# calc min by positions\n",
    "qb_adjust = 1.2\n",
    "\n",
    "qb_min = int(qb_adjust*df_op['Auction Value'].where(np.logical_and(df_op['Pos']=='QB', df_op['Auction Value']>0)).dropna()[-2:].sum()+1)\n",
    "rb_min = max(int(df_op['Auction Value'].where(np.logical_and(df_op['Pos']=='RB', df_op['Auction Value']>0)).dropna()[-2:].sum()+1),2)\n",
    "wr_min = max(int(df_op['Auction Value'].where(np.logical_and(df_op['Pos']=='WR', df_op['Auction Value']>0)).dropna()[-2:].sum()+1),2)\n",
    "te_min = int(df_op['Auction Value'].where(np.logical_and(df_op['Pos']=='TE', df_op['Auction Value']>0)).dropna()[-2:].sum()+1)\n",
    "flex_min = max(int(df_op['Auction Value'].where(np.logical_and(df_op['Pos']!='QB', df_op['Auction Value']>0)).dropna()[-2:].sum()+1),2)\n",
    "\n",
    "qb_max = int(qb_adjust*df_op['Auction Value'].where(np.logical_and(df_op['Pos']=='QB', df_op['Auction Value']>0)).dropna()[:2].sum()+2)\n",
    "rb_max = max(int(df_op['Auction Value'].where(np.logical_and(df_op['Pos']=='RB', df_op['Auction Value']>0)).dropna()[:2].sum()+2),2)\n",
    "wr_max = max(int(df_op['Auction Value'].where(np.logical_and(df_op['Pos']=='WR', df_op['Auction Value']>0)).dropna()[:2].sum()+2),2)\n",
    "te_max = int(df_op['Auction Value'].where(np.logical_and(df_op['Pos']=='TE', df_op['Auction Value']>0)).dropna()[:1].sum()+2)\n",
    "flex_max = max(int(df_op['Auction Value'].where(np.logical_and(df_op['Pos']!='QB', df_op['Auction Value']>0)).dropna()[:2].sum()+2),2)\n",
    "\n",
    "print(qb_min,rb_min,wr_min,te_min,flex_min)\n",
    "print(qb_max,rb_max,wr_max,te_max,flex_max)"
   ]
  },
  {
   "cell_type": "code",
   "execution_count": 563,
   "metadata": {},
   "outputs": [
    {
     "data": {
      "text/plain": [
       "125.75904387312409"
      ]
     },
     "execution_count": 563,
     "metadata": {},
     "output_type": "execute_result"
    }
   ],
   "source": [
    "df_op['Auction Value'].where(np.logical_and(df_op['Pos']=='RB', df_op['Auction Value']>0)).dropna()[:2].sum()"
   ]
  },
  {
   "cell_type": "markdown",
   "metadata": {},
   "source": [
    "#### Loop throuhg possible values, append all position results to list. \n",
    "1. Only ~100 per position. \n",
    "2. Then, can be called when necessary on splits_list; do not need to rerun. \n",
    "3. df index should be cost-pos, using optimal_split_viewer\n"
   ]
  },
  {
   "cell_type": "code",
   "execution_count": 582,
   "metadata": {},
   "outputs": [],
   "source": [
    "\n",
    "# we know we're gonna have 5 rows of data\n",
    "#numberOfRows = (qb_max-qb_min)+(rb_max-rb_min)+(wr_max-wr_min)+(flex_max-flex_min)+(te_max-te_min)\n",
    "# create dataframe\n",
    "#df_pairs = pd.DataFrame(index=np.arange(0, numberOfRows), columns=('Index','Lookup','Player1', 'Player2', 'Total Pts', 'Total Cost','P1 Cost','P2 Cost','P1 Pts','P2 Pts') )\n",
    "df_pairs = pd.DataFrame(columns=('Index','Lookup','Player1', 'Player2', 'Total Pts', 'Total Cost','P1 Cost','P2 Cost','P1 Pts','P2 Pts') )\n",
    "\n",
    "\n",
    "# now fill it up row by row\n",
    "#loc or iloc both work here since the index is natural numbers\n",
    "for x in range(qb_min,qb_max):\n",
    "    i = x - qb_min \n",
    "    df_pairs.loc[i] = list(optimal_split_viewer('QB',int(x/qb_adjust)))\n",
    "for x in range(rb_min,rb_max):\n",
    "    i = len(df_pairs)+x-rb_min\n",
    "    df_pairs.loc[i] = list(optimal_split_viewer('RB',x))\n",
    "for x in range(wr_min,wr_max):\n",
    "    i = len(df_pairs)+x-wr_min\n",
    "    df_pairs.loc[i] = list(optimal_split_viewer('WR',x))\n",
    "for x in range(flex_min,flex_max):\n",
    "    i = len(df_pairs)+x-flex_min\n",
    "    df_pairs.loc[i] = list(optimal_split_viewer('Flex',x))    \n",
    "    \n",
    "\n",
    "\n",
    "\n"
   ]
  },
  {
   "cell_type": "code",
   "execution_count": 669,
   "metadata": {},
   "outputs": [],
   "source": [
    "# Create list of position budgets, calculate full state at once. \n",
    "# Loop below DOESNT use optimal_split. \n",
    "# Optimal split run on df generated by this process! \n",
    "\n",
    "rem_budget = starters*buyin\n",
    "splits_list=[]\n",
    "incr = 3\n",
    "\n",
    "for qx in range(qb_min,min(qb_max,rem_budget),incr):\n",
    "    rem_budget = starters*buyin\n",
    "    splits=[]\n",
    "    for rx in range(rb_min,min(rb_max,int(rem_budget-(qx+wr_min+flex_min+te_min))),incr):\n",
    "        for wx in range(wr_min,min(wr_max,int(rem_budget-(rx+qx+flex_min+te_min))),incr):\n",
    "            for fx in range(flex_min,min(flex_max,int(rem_budget-(rx+qx+wx+te_min))),incr):\n",
    "                for tx in range(te_min,min(te_max,int(rem_budget-(rx+qx+wx+fx))),incr):\n",
    "                    splits = [qx,rx,wx,fx,tx]\n",
    "                    if sum(splits)>170:\n",
    "                        splits_list.append(splits)\n",
    "                        \n",
    "                    \n",
    "#### Drop anything where total < budget to save size. About half is on huge TE budgets... "
   ]
  },
  {
   "cell_type": "code",
   "execution_count": 670,
   "metadata": {},
   "outputs": [
    {
     "data": {
      "text/plain": [
       "143.06240215490106"
      ]
     },
     "execution_count": 670,
     "metadata": {},
     "output_type": "execute_result"
    }
   ],
   "source": [
    "mper_run*len(splits_list)"
   ]
  },
  {
   "cell_type": "code",
   "execution_count": 605,
   "metadata": {},
   "outputs": [
    {
     "data": {
      "text/plain": [
       "49028"
      ]
     },
     "execution_count": 605,
     "metadata": {},
     "output_type": "execute_result"
    }
   ],
   "source": [
    "len(splits_list)"
   ]
  },
  {
   "cell_type": "markdown",
   "metadata": {},
   "source": [
    "### Now make teams! \n",
    "- Only need to lookup values from splits_list in df_pairs. No running optimizer!\n",
    "- Add up points only for initial comp; will look at teams later (next section)\n"
   ]
  },
  {
   "cell_type": "code",
   "execution_count": 667,
   "metadata": {},
   "outputs": [],
   "source": [
    "df_pairs.drop_duplicates()\n",
    "df_pairs.head()\n",
    "df_te = df_op.where(df_op['Pos']=='TE').dropna()"
   ]
  },
  {
   "cell_type": "code",
   "execution_count": 663,
   "metadata": {},
   "outputs": [],
   "source": [
    "#### Method 3: Using Index value\n",
    "####\n",
    "####\n",
    "\n",
    "import timeit\n",
    "start = timeit.default_timer()\n",
    "\n",
    "\n",
    "## Teams currently using qb_adjust as accelerator of costs (based on league history)\n",
    "splits_list_total_pts = []\n",
    "\n",
    "for i in range(10): #(len(splits_list)):\n",
    "    team_pts = 0 \n",
    "    team_pts = (df_pairs.loc[str(\"QB\"+str(splits_list[i][0]))][3]+\n",
    "                df_pairs.loc[str(\"RB\"+str(splits_list[i][1]))][3]+\n",
    "                df_pairs.loc[str(\"WR\"+str(splits_list[i][2]))][3]+\n",
    "                df_pairs.loc[str(\"Flex\"+str(splits_list[i][3]))][3]+\n",
    "                df_te.iloc[(np.searchsorted(-(df_te['Auction Value'].values), -(splits_list[i][4]))).clip(0)][-8])\n",
    "    splits_list_total_pts.append(team_pts)\n",
    "    \n",
    "    \n",
    "stop = timeit.default_timer()\n",
    "mper_run = (stop-start)/60\n"
   ]
  },
  {
   "cell_type": "code",
   "execution_count": 664,
   "metadata": {},
   "outputs": [
    {
     "data": {
      "text/plain": [
       "0.2853122350643389"
      ]
     },
     "execution_count": 664,
     "metadata": {},
     "output_type": "execute_result"
    }
   ],
   "source": [
    "# 1000 runs w. optimize_split = 9.7m\n",
    "# 1000 runs w. .where.dropna = 5.16m\n",
    "# 1000 runs w. index lookup = 0.75m\n",
    "# 1000 runs w index, no TE = 0.15m\n",
    "# 1000 runs w index; searchsorted TE = 0.28m\n",
    "\n",
    "mper_run*1000"
   ]
  },
  {
   "cell_type": "code",
   "execution_count": 532,
   "metadata": {},
   "outputs": [],
   "source": [
    "##### Method 1 Attempt: Calls too many optimize functions, takes 10m per 1000. \n",
    "#####\n",
    "#####\n",
    "\n",
    "import timeit\n",
    "start = timeit.default_timer()\n",
    "\n",
    "# adjuster for expected value. QB seems to go higher by 10-20%.\n",
    "# In concept, your budget buys you less 1.2x less than expected.\n",
    "qb_adjust=1.2\n",
    "\n",
    "splits_list_total_pts = []\n",
    "\n",
    "for i in range(len(splits_list)):\n",
    "    team_pts = optimal_split('QB',splits_list[i][0]/qb_adjust)[1]\n",
    "    team_pts += optimal_split('RB',splits_list[i][1])[1]\n",
    "    team_pts += optimal_split('WR',splits_list[i][2])[1]\n",
    "    team_pts += optimal_split('Flex',splits_list[i][3])[1]\n",
    "    team_pts +=max(df_op['Exp_PTS'].where(np.logical_and(df_op['Pos']=='TE', df_op['Auction Value']<(splits_list[i][4]))).dropna())\n",
    "    splits_list_total_pts.append(team_pts)\n",
    "\n",
    "    \n",
    "stop = timeit.default_timer()\n",
    "per_thousand = (stop-start)/60*1000"
   ]
  },
  {
   "cell_type": "code",
   "execution_count": 530,
   "metadata": {},
   "outputs": [
    {
     "name": "stdout",
     "output_type": "stream",
     "text": [
      "Minutes per thousand:  9.7\n",
      "Hours for split_list:  8.5\n"
     ]
    }
   ],
   "source": [
    "print(\"Minutes per thousand: \",\"%.1f\" %  per_thousand)\n",
    "print(\"Hours for split_list: \",\"%.1f\" % (per_thousand/1000*len(splits_list)/60) )"
   ]
  },
  {
   "cell_type": "code",
   "execution_count": null,
   "metadata": {
    "collapsed": true
   },
   "outputs": [],
   "source": [
    "df_results = pd.DataFrame({'QB/RB/WR/Flex/TE':splits_list, 'Team Pts':splits_list_total_pts})\n",
    "df_results.to_csv(r'C:\\Users\\stefa\\OneDrive\\Documents\\Analysis Projects\\Fantasy Modeling\\Football\\2018 Data\\Results.csv')"
   ]
  },
  {
   "cell_type": "markdown",
   "metadata": {},
   "source": [
    "## Team Evaluator\n",
    "1. Prints players from optimal teams. "
   ]
  },
  {
   "cell_type": "code",
   "execution_count": null,
   "metadata": {
    "collapsed": true
   },
   "outputs": [],
   "source": []
  },
  {
   "cell_type": "code",
   "execution_count": 503,
   "metadata": {},
   "outputs": [
    {
     "data": {
      "text/html": [
       "<div>\n",
       "<style>\n",
       "    .dataframe thead tr:only-child th {\n",
       "        text-align: right;\n",
       "    }\n",
       "\n",
       "    .dataframe thead th {\n",
       "        text-align: left;\n",
       "    }\n",
       "\n",
       "    .dataframe tbody tr th {\n",
       "        vertical-align: top;\n",
       "    }\n",
       "</style>\n",
       "<table border=\"1\" class=\"dataframe\">\n",
       "  <thead>\n",
       "    <tr style=\"text-align: right;\">\n",
       "      <th></th>\n",
       "      <th>Player</th>\n",
       "      <th>Points</th>\n",
       "      <th>Costs</th>\n",
       "    </tr>\n",
       "  </thead>\n",
       "  <tbody>\n",
       "    <tr>\n",
       "      <th>0</th>\n",
       "      <td>Dak Prescott</td>\n",
       "      <td>252</td>\n",
       "      <td>14</td>\n",
       "    </tr>\n",
       "    <tr>\n",
       "      <th>1</th>\n",
       "      <td>Eli Manning</td>\n",
       "      <td>225</td>\n",
       "      <td>4</td>\n",
       "    </tr>\n",
       "    <tr>\n",
       "      <th>2</th>\n",
       "      <td>Dalvin Cook</td>\n",
       "      <td>201</td>\n",
       "      <td>36</td>\n",
       "    </tr>\n",
       "    <tr>\n",
       "      <th>3</th>\n",
       "      <td>Derrius Guice</td>\n",
       "      <td>152</td>\n",
       "      <td>18</td>\n",
       "    </tr>\n",
       "    <tr>\n",
       "      <th>4</th>\n",
       "      <td>Julio Jones</td>\n",
       "      <td>185</td>\n",
       "      <td>34</td>\n",
       "    </tr>\n",
       "    <tr>\n",
       "      <th>5</th>\n",
       "      <td>Michael Thomas</td>\n",
       "      <td>167</td>\n",
       "      <td>27</td>\n",
       "    </tr>\n",
       "    <tr>\n",
       "      <th>6</th>\n",
       "      <td>Jimmy Graham</td>\n",
       "      <td>105</td>\n",
       "      <td>10</td>\n",
       "    </tr>\n",
       "    <tr>\n",
       "      <th>7</th>\n",
       "      <td>Derrius Guice</td>\n",
       "      <td>152</td>\n",
       "      <td>18</td>\n",
       "    </tr>\n",
       "    <tr>\n",
       "      <th>8</th>\n",
       "      <td>Mark Ingram</td>\n",
       "      <td>138</td>\n",
       "      <td>13</td>\n",
       "    </tr>\n",
       "  </tbody>\n",
       "</table>\n",
       "</div>"
      ],
      "text/plain": [
       "           Player Points Costs\n",
       "0    Dak Prescott    252    14\n",
       "1     Eli Manning    225     4\n",
       "2     Dalvin Cook    201    36\n",
       "3   Derrius Guice    152    18\n",
       "4     Julio Jones    185    34\n",
       "5  Michael Thomas    167    27\n",
       "6    Jimmy Graham    105    10\n",
       "7   Derrius Guice    152    18\n",
       "8     Mark Ingram    138    13"
      ]
     },
     "execution_count": 503,
     "metadata": {},
     "output_type": "execute_result"
    }
   ],
   "source": [
    "i = 310\n",
    "\n",
    "qbs = optimal_split_viewer('QB',splits_list[i][0])\n",
    "rbs = optimal_split_viewer('RB',splits_list[i][1])\n",
    "wrs = optimal_split_viewer('WR',splits_list[i][2])\n",
    "flexs = optimal_split_viewer('Flex',splits_list[i][3])\n",
    "te = df_op.iloc[df_op['Exp_PTS'].where(np.logical_and(df_op['Pos']=='TE', df_op['Auction Value']<(splits_list[i][4]))).dropna().idxmax()]\n",
    "\n",
    "#df_team = pd.DataFrame(np.column_stack([pl1_list, pl2_list, points_list, cost_list,pl1_costlist,pl2costlist]), \n",
    "#                           columns=['Player1', 'Player2', 'Total Pts', 'Total Cost','P1 Cost','P2 Cost'])\n",
    "names=[qbs[1],qbs[2],rbs[1],rbs[2],wrs[1],wrs[2], te[1], flexs[1],flexs[2]]\n",
    "costs = [qbs[5],qbs[6],rbs[5],rbs[6],wrs[5],wrs[6], str(int(te[-3])), flexs[5],flexs[6]]\n",
    "points = [qbs[7],qbs[8],rbs[7],rbs[8],wrs[7],wrs[8], str(int(te[-8])), flexs[7],flexs[8]]\n",
    "\n",
    "df_team = pd.DataFrame(np.column_stack([names,points, costs]), columns=['Player', 'Points','Costs'])\n",
    "df_team"
   ]
  },
  {
   "cell_type": "code",
   "execution_count": null,
   "metadata": {
    "collapsed": true
   },
   "outputs": [],
   "source": []
  }
 ],
 "metadata": {
  "kernelspec": {
   "display_name": "Python 3",
   "language": "python",
   "name": "python3"
  },
  "language_info": {
   "codemirror_mode": {
    "name": "ipython",
    "version": 3
   },
   "file_extension": ".py",
   "mimetype": "text/x-python",
   "name": "python",
   "nbconvert_exporter": "python",
   "pygments_lexer": "ipython3",
   "version": "3.6.1"
  }
 },
 "nbformat": 4,
 "nbformat_minor": 2
}
