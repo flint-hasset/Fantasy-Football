{
 "cells": [
  {
   "cell_type": "markdown",
   "metadata": {},
   "source": [
    "### Packages:"
   ]
  },
  {
   "cell_type": "code",
   "execution_count": 22,
   "metadata": {},
   "outputs": [],
   "source": [
    "from bs4 import BeautifulSoup\n",
    "import pandas as pd\n",
    "import numpy as np\n",
    "import requests\n",
    "import time\n",
    "from datetime import date \n",
    "from random import randint\n",
    "import matplotlib.pyplot as plt"
   ]
  },
  {
   "cell_type": "markdown",
   "metadata": {},
   "source": [
    "### Functions:\n"
   ]
  },
  {
   "cell_type": "code",
   "execution_count": 2,
   "metadata": {},
   "outputs": [],
   "source": [
    "def extract_fpts(values_str):\n",
    "    \"\"\"\n",
    "    Converts string of fpts to a list that can be indexed\n",
    "    \"\"\"\n",
    "    index_list = [0]\n",
    "    for i in range(len(values_str)):\n",
    "        if values_str[i] == '.':\n",
    "            index_list.append(i + 2)\n",
    "            \n",
    "    values_list = []\n",
    "    for i in range(len(index_list) - 1):\n",
    "        value = float(values_str[index_list[i] : index_list[i + 1]])\n",
    "        values_list.append(value)\n",
    "        \n",
    "    return values_list"
   ]
  },
  {
   "cell_type": "code",
   "execution_count": 3,
   "metadata": {},
   "outputs": [],
   "source": [
    "def extract_table(position):\n",
    "    \"\"\"\n",
    "    Extracts table on url for user inputted position\n",
    "    \"\"\"\n",
    "    url_base = 'https://www.fantasypros.com/nfl/projections/BASE.php?max-yes=true&min-yes=true&week=draft'\n",
    "    url = url_base.replace('BASE', position)\n",
    "    r = requests.post(str(url))\n",
    "    soup = BeautifulSoup(r.text)\n",
    "\n",
    "    ladle_of_soup = soup.find('div', attrs={'class' : 'mobile-table'})\n",
    "    table = ladle_of_soup.find('table', attrs={'id' : 'data'})\n",
    "    table_body = table.find('tbody')\n",
    "\n",
    "    df = pd.DataFrame()\n",
    "    \n",
    "    rows = table_body.find_all('tr')\n",
    "    for row in rows:\n",
    "        cols = row.find_all('td')\n",
    "        for j in range(len(cols)):\n",
    "            col = cols[j]\n",
    "            if j == 0:\n",
    "                player_info = col.text.split(' ')\n",
    "                if position != 'dst':\n",
    "                    name = ' '.join(player_info[:-2]).strip()\n",
    "                    team = player_info[-2].strip()\n",
    "                else:\n",
    "                    name = ' '.join(player_info[:-1]).strip()\n",
    "                    team = ''\n",
    "            elif j == (len(cols) - 1):\n",
    "                values_str = col.text\n",
    "                values_list = extract_fpts(values_str)\n",
    "        row = {'name' : name, 'team' : team, 'position' : position,\n",
    "               'median_fpts' : values_list[0], 'high_fpts' : values_list[1], 'low_fpts' : values_list[2]}\n",
    "\n",
    "        df = df.append(pd.DataFrame(row, index = [0]), ignore_index = True)\n",
    "    return df"
   ]
  },
  {
   "cell_type": "markdown",
   "metadata": {},
   "source": [
    "### List of tables"
   ]
  },
  {
   "cell_type": "code",
   "execution_count": 4,
   "metadata": {},
   "outputs": [],
   "source": [
    "tables = ['qb', 'rb', 'wr', 'te', 'flex', 'k', 'dst']"
   ]
  },
  {
   "cell_type": "markdown",
   "metadata": {},
   "source": [
    "### Create combined tables\n",
    "\n",
    "Known issues:\n",
    " - dst tables does not have the 3 letter abbreviation for each team"
   ]
  },
  {
   "cell_type": "code",
   "execution_count": 5,
   "metadata": {},
   "outputs": [],
   "source": [
    "df = pd.DataFrame()\n",
    "for position in tables:\n",
    "    df_position = extract_table(position)\n",
    "    df = pd.concat((df, df_position), ignore_index = True)"
   ]
  },
  {
   "cell_type": "code",
   "execution_count": 28,
   "metadata": {},
   "outputs": [
    {
     "data": {
      "text/html": [
       "<div>\n",
       "<style scoped>\n",
       "    .dataframe tbody tr th:only-of-type {\n",
       "        vertical-align: middle;\n",
       "    }\n",
       "\n",
       "    .dataframe tbody tr th {\n",
       "        vertical-align: top;\n",
       "    }\n",
       "\n",
       "    .dataframe thead th {\n",
       "        text-align: right;\n",
       "    }\n",
       "</style>\n",
       "<table border=\"1\" class=\"dataframe\">\n",
       "  <thead>\n",
       "    <tr style=\"text-align: right;\">\n",
       "      <th></th>\n",
       "      <th>count</th>\n",
       "      <th>mean</th>\n",
       "      <th>std</th>\n",
       "      <th>min</th>\n",
       "      <th>25%</th>\n",
       "      <th>50%</th>\n",
       "      <th>75%</th>\n",
       "      <th>max</th>\n",
       "    </tr>\n",
       "    <tr>\n",
       "      <th>position</th>\n",
       "      <th></th>\n",
       "      <th></th>\n",
       "      <th></th>\n",
       "      <th></th>\n",
       "      <th></th>\n",
       "      <th></th>\n",
       "      <th></th>\n",
       "      <th></th>\n",
       "    </tr>\n",
       "  </thead>\n",
       "  <tbody>\n",
       "    <tr>\n",
       "      <th>dst</th>\n",
       "      <td>32.0</td>\n",
       "      <td>101.365625</td>\n",
       "      <td>9.051773</td>\n",
       "      <td>83.1</td>\n",
       "      <td>95.625</td>\n",
       "      <td>104.45</td>\n",
       "      <td>105.225</td>\n",
       "      <td>117.0</td>\n",
       "    </tr>\n",
       "    <tr>\n",
       "      <th>flex</th>\n",
       "      <td>581.0</td>\n",
       "      <td>49.138210</td>\n",
       "      <td>58.698242</td>\n",
       "      <td>0.1</td>\n",
       "      <td>5.200</td>\n",
       "      <td>21.70</td>\n",
       "      <td>78.500</td>\n",
       "      <td>301.4</td>\n",
       "    </tr>\n",
       "    <tr>\n",
       "      <th>k</th>\n",
       "      <td>35.0</td>\n",
       "      <td>116.031429</td>\n",
       "      <td>22.222018</td>\n",
       "      <td>0.0</td>\n",
       "      <td>113.100</td>\n",
       "      <td>120.80</td>\n",
       "      <td>124.600</td>\n",
       "      <td>139.8</td>\n",
       "    </tr>\n",
       "    <tr>\n",
       "      <th>qb</th>\n",
       "      <td>95.0</td>\n",
       "      <td>103.197895</td>\n",
       "      <td>129.070330</td>\n",
       "      <td>0.0</td>\n",
       "      <td>4.700</td>\n",
       "      <td>10.70</td>\n",
       "      <td>242.750</td>\n",
       "      <td>379.6</td>\n",
       "    </tr>\n",
       "    <tr>\n",
       "      <th>rb</th>\n",
       "      <td>174.0</td>\n",
       "      <td>62.009770</td>\n",
       "      <td>72.120873</td>\n",
       "      <td>0.1</td>\n",
       "      <td>7.075</td>\n",
       "      <td>34.85</td>\n",
       "      <td>96.675</td>\n",
       "      <td>301.4</td>\n",
       "    </tr>\n",
       "    <tr>\n",
       "      <th>te</th>\n",
       "      <td>142.0</td>\n",
       "      <td>32.202817</td>\n",
       "      <td>36.872550</td>\n",
       "      <td>0.7</td>\n",
       "      <td>6.375</td>\n",
       "      <td>18.20</td>\n",
       "      <td>47.150</td>\n",
       "      <td>199.3</td>\n",
       "    </tr>\n",
       "    <tr>\n",
       "      <th>wr</th>\n",
       "      <td>265.0</td>\n",
       "      <td>49.761509</td>\n",
       "      <td>56.312705</td>\n",
       "      <td>0.7</td>\n",
       "      <td>2.900</td>\n",
       "      <td>21.90</td>\n",
       "      <td>86.100</td>\n",
       "      <td>229.0</td>\n",
       "    </tr>\n",
       "  </tbody>\n",
       "</table>\n",
       "</div>"
      ],
      "text/plain": [
       "          count        mean         std   min      25%     50%      75%    max\n",
       "position                                                                      \n",
       "dst        32.0  101.365625    9.051773  83.1   95.625  104.45  105.225  117.0\n",
       "flex      581.0   49.138210   58.698242   0.1    5.200   21.70   78.500  301.4\n",
       "k          35.0  116.031429   22.222018   0.0  113.100  120.80  124.600  139.8\n",
       "qb         95.0  103.197895  129.070330   0.0    4.700   10.70  242.750  379.6\n",
       "rb        174.0   62.009770   72.120873   0.1    7.075   34.85   96.675  301.4\n",
       "te        142.0   32.202817   36.872550   0.7    6.375   18.20   47.150  199.3\n",
       "wr        265.0   49.761509   56.312705   0.7    2.900   21.90   86.100  229.0"
      ]
     },
     "execution_count": 28,
     "metadata": {},
     "output_type": "execute_result"
    }
   ],
   "source": [
    "df.groupby('position')['median_fpts'].describe()"
   ]
  },
  {
   "cell_type": "code",
   "execution_count": 25,
   "metadata": {},
   "outputs": [
    {
     "data": {
      "image/png": "[encoded data removed]",
      "text/plain": [
       "<Figure size 864x432 with 1 Axes>"
      ]
     },
     "metadata": {
      "needs_background": "light"
     },
     "output_type": "display_data"
    }
   ],
   "source": [
    "for i in df['position'].unique():\n",
    "    df_temp = df[df['position'] == i].copy()\n",
    "    df_temp['median_fpts'].hist(bins = 30, alpha = 0.7, figsize = (12,6), label = i)\n",
    "    plt.legend()\n",
    "plt.show()"
   ]
  },
  {
   "cell_type": "code",
   "execution_count": null,
   "metadata": {},
   "outputs": [],
   "source": []
  }
 ],
 "metadata": {
  "kernelspec": {
   "display_name": "Python 3",
   "language": "python",
   "name": "python3"
  },
  "language_info": {
   "codemirror_mode": {
    "name": "ipython",
    "version": 3
   },
   "file_extension": ".py",
   "mimetype": "text/x-python",
   "name": "python",
   "nbconvert_exporter": "python",
   "pygments_lexer": "ipython3",
   "version": "3.7.3"
  }
 },
 "nbformat": 4,
 "nbformat_minor": 2
}
